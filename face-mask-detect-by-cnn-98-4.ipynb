{
 "cells": [
  {
   "cell_type": "code",
   "execution_count": 1,
   "id": "8e154560",
   "metadata": {
    "papermill": {
     "duration": 16.888842,
     "end_time": "2024-03-30T17:26:38.778496",
     "exception": false,
     "start_time": "2024-03-30T17:26:21.889654",
     "status": "completed"
    },
    "tags": []
   },
   "outputs": [
    {
     "ename": "ModuleNotFoundError",
     "evalue": "No module named 'cv2'",
     "output_type": "error",
     "traceback": [
      "\u001b[1;31m---------------------------------------------------------------------------\u001b[0m",
      "\u001b[1;31mModuleNotFoundError\u001b[0m                       Traceback (most recent call last)",
      "Cell \u001b[1;32mIn[1], line 4\u001b[0m\n\u001b[0;32m      2\u001b[0m \u001b[38;5;28;01mimport\u001b[39;00m \u001b[38;5;21;01mos\u001b[39;00m\n\u001b[0;32m      3\u001b[0m \u001b[38;5;66;03m# OpenCV library for image processing tasks\u001b[39;00m\n\u001b[1;32m----> 4\u001b[0m \u001b[38;5;28;01mimport\u001b[39;00m \u001b[38;5;21;01mcv2\u001b[39;00m\n\u001b[0;32m      5\u001b[0m \u001b[38;5;66;03m# Random module for generating random numbers\u001b[39;00m\n\u001b[0;32m      6\u001b[0m \u001b[38;5;28;01mimport\u001b[39;00m \u001b[38;5;21;01mrandom\u001b[39;00m\n",
      "\u001b[1;31mModuleNotFoundError\u001b[0m: No module named 'cv2'"
     ]
    }
   ],
   "source": [
    "# os module to handle file paths and directories\n",
    "import os\n",
    "# OpenCV library for image processing tasks\n",
    "import cv2\n",
    "# Random module for generating random numbers\n",
    "import random\n",
    "# Pandas library for data manipulation and analysis\n",
    "import pandas as pd\n",
    "# Numpy library for numerical computations\n",
    "import numpy as np\n",
    "# Matplotlib library for data visualization\n",
    "import matplotlib.pyplot as plt\n",
    "# Seaborn library for statistical data visualization\n",
    "import seaborn as sns\n",
    "# TensorFlow library for building and training neural networks\n",
    "import tensorflow as tf\n",
    "#  Keras module from TensorFlow for building neural network models\n",
    "from tensorflow import keras\n",
    "# Layers module from Keras for defining different types of layers in a neural network\n",
    "from tensorflow.keras import layers\n",
    "# Sequential class from Keras for creating sequential neural network models\n",
    "from tensorflow.keras.models import Sequential\n",
    "# Specific layers from Keras for building the neural network architecture\n",
    "from tensorflow.keras.layers import Dense, Dropout, Activation, Flatten, Conv2D, MaxPooling2D\n",
    "# TensorBoard callback from Keras for monitoring training progress\n",
    "from tensorflow.keras.callbacks import TensorBoard\n",
    "# Classification_report function from scikit-learn for evaluating classification models\n",
    "from sklearn.metrics import classification_report"
   ]
  },
  {
   "cell_type": "markdown",
   "id": "315838db",
   "metadata": {
    "papermill": {
     "duration": 0.009192,
     "end_time": "2024-03-30T17:26:38.816022",
     "exception": false,
     "start_time": "2024-03-30T17:26:38.806830",
     "status": "completed"
    },
    "tags": []
   },
   "source": [
    "\n",
    "# Loading the Data"
   ]
  },
  {
   "cell_type": "code",
   "execution_count": null,
   "id": "decea358",
   "metadata": {
    "papermill": {
     "duration": 1.047149,
     "end_time": "2024-03-30T17:26:39.872612",
     "exception": false,
     "start_time": "2024-03-30T17:26:38.825463",
     "status": "completed"
    },
    "tags": []
   },
   "outputs": [],
   "source": [
    "# Function to load and print shape of images\n",
    "def print_image_shapes(image_paths):\n",
    "    for img_path in image_paths:\n",
    "        img = cv2.imread(img_path)\n",
    "        if img is not None:\n",
    "            print(\"Image shape:\", img.shape)\n",
    "        else:\n",
    "            print(\"Error: Unable to load image at path:\", img_path)\n",
    "\n",
    "# Directories for train, test, and validation data\n",
    "train_directory = \"D:\\JP CERTIFICATES\\IITK\\Course summerterm\\DL\\mask_data\\Face Mask Dataset\\Train\"\n",
    "test_directory = \"D:\\JP CERTIFICATES\\IITK\\Course summerterm\\DL\\mask_data\\Face Mask Dataset\\Test\"\n",
    "validation_directory = \"D:\\JP CERTIFICATES\\IITK\\Course summerterm\\DL\\mask_data\\Face Mask Dataset\\Validation\"\n",
    "\n",
    "# Load train data\n",
    "train_filepath = []\n",
    "train_label = []\n",
    "\n",
    "folds_train = os.listdir(train_directory)\n",
    "\n",
    "for fold in folds_train:\n",
    "    f_path = os.path.join(train_directory, fold)\n",
    "    imgs = os.listdir(f_path)\n",
    "    for img in imgs:\n",
    "        img_path = os.path.join(f_path, img)\n",
    "        train_filepath.append(img_path)\n",
    "        train_label.append(fold)\n",
    "\n",
    "# Concatenate data paths with labels for train data\n",
    "train_file_path_series = pd.Series(train_filepath, name='filepath')\n",
    "train_label_path_series = pd.Series(train_label, name='label')\n",
    "df_train = pd.concat([train_file_path_series, train_label_path_series], axis=1)\n",
    "\n",
    "# Load test data\n",
    "test_filepath = []\n",
    "test_label = []\n",
    "\n",
    "folds_test = os.listdir(test_directory)\n",
    "\n",
    "for fold in folds_test:\n",
    "    f_path = os.path.join(test_directory, fold)\n",
    "    imgs = os.listdir(f_path)\n",
    "    for img in imgs:\n",
    "        img_path = os.path.join(f_path, img)\n",
    "        test_filepath.append(img_path)\n",
    "        test_label.append(fold)\n",
    "\n",
    "# Concatenate data paths with labels for test data\n",
    "test_file_path_series = pd.Series(test_filepath, name='filepath')\n",
    "test_label_path_series = pd.Series(test_label, name='label')\n",
    "df_test = pd.concat([test_file_path_series, test_label_path_series], axis=1)\n",
    "\n",
    "# Load validation data\n",
    "validation_filepath = []\n",
    "validation_label = []\n",
    "\n",
    "folds_validation = os.listdir(validation_directory)\n",
    "\n",
    "for fold in folds_validation:\n",
    "    f_path = os.path.join(validation_directory, fold)\n",
    "    imgs = os.listdir(f_path)\n",
    "    for img in imgs:\n",
    "        img_path = os.path.join(f_path, img)\n",
    "        validation_filepath.append(img_path)\n",
    "        validation_label.append(fold)\n",
    "\n",
    "# Concatenate data paths with labels for validation data\n",
    "validation_file_path_series = pd.Series(validation_filepath, name='filepath')\n",
    "validation_label_path_series = pd.Series(validation_label, name='label')\n",
    "df_validation = pd.concat([validation_file_path_series, validation_label_path_series], axis=1)\n"
   ]
  },
  {
   "cell_type": "markdown",
   "id": "59f1f5c0",
   "metadata": {
    "papermill": {
     "duration": 0.010077,
     "end_time": "2024-03-30T17:26:39.892226",
     "exception": false,
     "start_time": "2024-03-30T17:26:39.882149",
     "status": "completed"
    },
    "tags": []
   },
   "source": [
    "Rescaling layer is defined using layers.Rescaling from Keras. It scales the pixel values of the images in the datasets to the range `[0, 1]`.\n",
    "\n",
    "The code then loads the train, validation, and test datasets from their respective directories using keras.utils.image_dataset_from_directory. The datasets are configured with batch size of `32`, image size of `(224, 224)`, and label mode set to 'binary' (assuming there are multiple classes). The train and validation datasets are further split into training and validation subsets based on the specified validation split ratio.\n",
    "\n",
    "After loading the datasets, the rescaling layer is applied to each dataset using the map function, which rescales the pixel values of the images in the datasets."
   ]
  },
  {
   "cell_type": "markdown",
   "id": "78cc1a7b",
   "metadata": {
    "papermill": {
     "duration": 0.00932,
     "end_time": "2024-03-30T17:26:39.910964",
     "exception": false,
     "start_time": "2024-03-30T17:26:39.901644",
     "status": "completed"
    },
    "tags": []
   },
   "source": [
    "# Preprocessing the Data"
   ]
  },
  {
   "cell_type": "code",
   "execution_count": null,
   "id": "4bf4128b",
   "metadata": {
    "papermill": {
     "duration": 9.931888,
     "end_time": "2024-03-30T17:26:49.852316",
     "exception": false,
     "start_time": "2024-03-30T17:26:39.920428",
     "status": "completed"
    },
    "tags": []
   },
   "outputs": [],
   "source": [
    "# Define rescaling layer\n",
    "rescale = layers.Rescaling(1./255)\n",
    "\n",
    "# Load train dataset with rescaling\n",
    "train_ds = keras.utils.image_dataset_from_directory(\n",
    "    directory=\"D:\\JP CERTIFICATES\\IITK\\Course summerterm\\DL\\mask_data\\Face Mask Dataset\\Train\",\n",
    "    batch_size=32,\n",
    "    image_size=(224, 224),\n",
    "    validation_split=0.2,\n",
    "    subset=\"training\",\n",
    "    seed=123,\n",
    "    label_mode='categorical',  # Assuming you have multiple classes\n",
    ")\n",
    "train_ds = train_ds.map(lambda x, y: (rescale(x), y))  # Apply rescaling\n",
    "\n",
    "# Load validation dataset with rescaling\n",
    "validation_ds = keras.utils.image_dataset_from_directory(\n",
    "    directory=\"D:\\JP CERTIFICATES\\IITK\\Course summerterm\\DL\\mask_data\\Face Mask Dataset\\Validation\",\n",
    "    batch_size=32,\n",
    "    image_size=(224, 224),\n",
    "    validation_split=0.2,\n",
    "    subset=\"validation\",\n",
    "    seed=123,\n",
    "    label_mode='categorical',  # Assuming you have multiple classes\n",
    ")\n",
    "validation_ds = validation_ds.map(lambda x, y: (rescale(x), y))  # Apply rescaling\n",
    "\n",
    "# Load test dataset with rescaling\n",
    "test_ds = keras.utils.image_dataset_from_directory(\n",
    "    directory=\"D:\\JP CERTIFICATES\\IITK\\Course summerterm\\DL\\mask_data\\Face Mask Dataset\\Test\",\n",
    "    batch_size=32,\n",
    "    image_size=(224, 224),\n",
    "    label_mode='categorical',  # Assuming you have multiple classes\n",
    "    shuffle=False,\n",
    ")\n",
    "test_ds = test_ds.map(lambda x, y: (rescale(x), y))  # Apply rescaling\n"
   ]
  },
  {
   "cell_type": "markdown",
   "id": "1c98bd3c",
   "metadata": {
    "papermill": {
     "duration": 0.010176,
     "end_time": "2024-03-30T17:26:49.872525",
     "exception": false,
     "start_time": "2024-03-30T17:26:49.862349",
     "status": "completed"
    },
    "tags": []
   },
   "source": [
    "Creates `8` images with mask and `8` without mask a figure with 4x4 subplots.\n",
    "It loops through the sampled images with masks, reads each image using OpenCV (cv2), converts the image to RGB color space, and displays the image in the corresponding subplot with a title indicating `\"With Mask\"` and `\"Without Mask\"`."
   ]
  },
  {
   "cell_type": "markdown",
   "id": "e0e9dddd",
   "metadata": {
    "papermill": {
     "duration": 0.009743,
     "end_time": "2024-03-30T17:26:49.892113",
     "exception": false,
     "start_time": "2024-03-30T17:26:49.882370",
     "status": "completed"
    },
    "tags": []
   },
   "source": [
    "\n",
    "# Visualizing Train Images"
   ]
  },
  {
   "cell_type": "code",
   "execution_count": null,
   "id": "2e7a79b8",
   "metadata": {
    "papermill": {
     "duration": 2.213909,
     "end_time": "2024-03-30T17:26:52.116152",
     "exception": false,
     "start_time": "2024-03-30T17:26:49.902243",
     "status": "completed"
    },
    "tags": []
   },
   "outputs": [],
   "source": [
    "# Directory paths for images with mask and without mask\n",
    "with_mask_path = \"D:\\JP CERTIFICATES\\IITK\\Course summerterm\\DL\\mask_data\\Face Mask Dataset\\Train\\WithMask\"\n",
    "without_mask_path = \"D:\\JP CERTIFICATES\\IITK\\Course summerterm\\DL\\mask_data\\Face Mask Dataset\\Train\\WithoutMask\"\n",
    "\n",
    "# Function to sample images from a directory\n",
    "def sample_images(directory, num_samples):\n",
    "    images = [os.path.join(directory, file) for file in os.listdir(directory)]\n",
    "    return random.sample(images, min(num_samples, len(images)))\n",
    "\n",
    "# Sample images from each category\n",
    "with_mask_img_paths = sample_images(with_mask_path, 8)\n",
    "without_mask_img_paths = sample_images(without_mask_path, 8)\n",
    "\n",
    "# Load and display images in subplots\n",
    "fig, axes = plt.subplots(4, 4, figsize=(10, 10))\n",
    "\n",
    "# Loop through images with mask\n",
    "for i, img_path in enumerate(with_mask_img_paths):\n",
    "    img = cv2.imread(img_path)\n",
    "    img = cv2.cvtColor(img, cv2.COLOR_BGR2RGB)  # Convert image to RGB\n",
    "    axes[i//4, i%4].imshow(img)\n",
    "    axes[i//4, i%4].set_title(\"With Mask\",color= 'blue')\n",
    "    axes[i//4, i%4].axis('off')\n",
    "\n",
    "# Loop through images without mask\n",
    "for i, img_path in enumerate(without_mask_img_paths):\n",
    "    img = cv2.imread(img_path)\n",
    "    img = cv2.cvtColor(img, cv2.COLOR_BGR2RGB)  # Convert image to RGB\n",
    "    axes[2+i//4, i%4].imshow(img)\n",
    "    axes[2+i//4, i%4].set_title(\"Without Mask\",color='blue')\n",
    "    axes[2+i//4, i%4].axis('off')\n",
    "\n",
    "plt.suptitle('Random images of Train Data')\n",
    "plt.tight_layout()\n",
    "plt.show()\n"
   ]
  },
  {
   "cell_type": "markdown",
   "id": "2be2879d",
   "metadata": {
    "papermill": {
     "duration": 0.028927,
     "end_time": "2024-03-30T17:26:52.175870",
     "exception": false,
     "start_time": "2024-03-30T17:26:52.146943",
     "status": "completed"
    },
    "tags": []
   },
   "source": [
    "An input layer is defined with a shape of `(224, 224, 3)` .\n",
    "A sequential model is defined consisting of multiple layers: three convolutional layers with `32` filters and `3x3` kernel size, followed by `max pooling` layers; a `flatten layer` to convert the 2D data to 1D; a dropout layer with a dropout rate of 0.5; and an output layer with 1 unit and `softmax` activation."
   ]
  },
  {
   "cell_type": "markdown",
   "id": "313d8605",
   "metadata": {
    "papermill": {
     "duration": 0.029293,
     "end_time": "2024-03-30T17:26:52.245309",
     "exception": false,
     "start_time": "2024-03-30T17:26:52.216016",
     "status": "completed"
    },
    "tags": []
   },
   "source": [
    "# Count of Train Label"
   ]
  },
  {
   "cell_type": "code",
   "execution_count": null,
   "id": "c14155c3",
   "metadata": {
    "papermill": {
     "duration": 0.455201,
     "end_time": "2024-03-30T17:26:52.729667",
     "exception": false,
     "start_time": "2024-03-30T17:26:52.274466",
     "status": "completed"
    },
    "tags": []
   },
   "outputs": [],
   "source": [
    "# Count the occurrences of each category in the 'category' column\n",
    "count = df_train['label'].value_counts()\n",
    "\n",
    "# Create a figure with two subplots\n",
    "fig, axs = plt.subplots(1, 2, figsize=(12, 6), facecolor='white')\n",
    "\n",
    "# Plot pie chart on the first subplot\n",
    "palette = sns.color_palette(\"viridis\")\n",
    "sns.set_palette(palette)\n",
    "axs[0].pie(count, labels=count.index, autopct='%1.1f%%', startangle=140)\n",
    "axs[0].set_title('Distribution of Categories')\n",
    "\n",
    "# Plot bar chart on the second subplot\n",
    "sns.barplot(x=count.index, y=count.values, ax=axs[1], palette=\"viridis\")\n",
    "axs[1].set_title('Count of Categories')\n",
    "\n",
    "# Adjust layout\n",
    "plt.tight_layout()\n",
    "\n",
    "# Show the plot\n",
    "plt.show()"
   ]
  },
  {
   "cell_type": "markdown",
   "id": "c87b6160",
   "metadata": {
    "papermill": {
     "duration": 0.030317,
     "end_time": "2024-03-30T17:26:52.792509",
     "exception": false,
     "start_time": "2024-03-30T17:26:52.762192",
     "status": "completed"
    },
    "tags": []
   },
   "source": [
    "# Count of Test Label\n"
   ]
  },
  {
   "cell_type": "code",
   "execution_count": null,
   "id": "e360d07c",
   "metadata": {
    "papermill": {
     "duration": 0.432183,
     "end_time": "2024-03-30T17:26:53.255187",
     "exception": false,
     "start_time": "2024-03-30T17:26:52.823004",
     "status": "completed"
    },
    "tags": []
   },
   "outputs": [],
   "source": [
    "# Count the occurrences of each category in the 'category' column\n",
    "count = df_test['label'].value_counts()\n",
    "\n",
    "# Create a figure with two subplots\n",
    "fig, axs = plt.subplots(1, 2, figsize=(12, 6), facecolor='white')\n",
    "\n",
    "# Plot pie chart on the first subplot\n",
    "palette = sns.color_palette(\"viridis\")\n",
    "sns.set_palette(palette)\n",
    "axs[0].pie(count, labels=count.index, autopct='%1.1f%%', startangle=140)\n",
    "axs[0].set_title('Distribution of Categories')\n",
    "\n",
    "# Plot bar chart on the second subplot\n",
    "sns.barplot(x=count.index, y=count.values, ax=axs[1], palette=\"viridis\")\n",
    "axs[1].set_title('Count of Categories')\n",
    "\n",
    "# Adjust layout\n",
    "plt.tight_layout()\n",
    "\n",
    "# Show the plot\n",
    "plt.show()"
   ]
  },
  {
   "cell_type": "markdown",
   "id": "9ee7cd24",
   "metadata": {
    "papermill": {
     "duration": 0.032791,
     "end_time": "2024-03-30T17:26:53.320362",
     "exception": false,
     "start_time": "2024-03-30T17:26:53.287571",
     "status": "completed"
    },
    "tags": []
   },
   "source": [
    "\n",
    "# Build the Model"
   ]
  },
  {
   "cell_type": "code",
   "execution_count": null,
   "id": "2a97d6bd",
   "metadata": {
    "papermill": {
     "duration": 0.116213,
     "end_time": "2024-03-30T17:26:53.468679",
     "exception": false,
     "start_time": "2024-03-30T17:26:53.352466",
     "status": "completed"
    },
    "tags": []
   },
   "outputs": [],
   "source": [
    "# Define input layer\n",
    "input_layer = tf.keras.layers.Input(shape=(224, 224, 3))\n",
    "\n",
    "# Define model architecture\n",
    "model = tf.keras.models.Sequential([\n",
    "    input_layer,\n",
    "    # Convolutional layer with 32 filters and 3x3 kernel size, using ReLU activation\n",
    "    tf.keras.layers.Conv2D(filters=32, kernel_size=(3, 3), activation='relu'),\n",
    "    # Max pooling layer\n",
    "    tf.keras.layers.MaxPooling2D(),\n",
    "    # Convolutional layer with 32 filters and 3x3 kernel size, using ReLU activation\n",
    "    tf.keras.layers.Conv2D(filters=32, kernel_size=(3, 3), activation='relu'),\n",
    "    # Max pooling layer\n",
    "    tf.keras.layers.MaxPooling2D(),\n",
    "    # Convolutional layer with 32 filters and 3x3 kernel size, using ReLU activation\n",
    "    tf.keras.layers.Conv2D(filters=32, kernel_size=(3, 3), activation='relu'),\n",
    "    # Max pooling layer\n",
    "    tf.keras.layers.MaxPooling2D(),\n",
    "    # Flatten layer to convert 2D data to 1D\n",
    "    tf.keras.layers.Flatten(),\n",
    "    # Dropout Layer\n",
    "    tf.keras.layers.Dropout(0.5),\n",
    "    # Output layer with 1 units (for 10 classes) and softmax activation\n",
    "    tf.keras.layers.Dense(2, activation='softmax'),\n",
    "])\n"
   ]
  },
  {
   "cell_type": "markdown",
   "id": "f8783bb3",
   "metadata": {
    "papermill": {
     "duration": 0.031342,
     "end_time": "2024-03-30T17:26:53.531929",
     "exception": false,
     "start_time": "2024-03-30T17:26:53.500587",
     "status": "completed"
    },
    "tags": []
   },
   "source": [
    "\n",
    "# Summary of Model"
   ]
  },
  {
   "cell_type": "code",
   "execution_count": null,
   "id": "6a49a604",
   "metadata": {
    "papermill": {
     "duration": 0.067519,
     "end_time": "2024-03-30T17:26:53.631212",
     "exception": false,
     "start_time": "2024-03-30T17:26:53.563693",
     "status": "completed"
    },
    "tags": []
   },
   "outputs": [],
   "source": [
    "# Display the model summary\n",
    "model.summary()"
   ]
  },
  {
   "cell_type": "markdown",
   "id": "ce6882e4",
   "metadata": {
    "papermill": {
     "duration": 0.033747,
     "end_time": "2024-03-30T17:26:53.698526",
     "exception": false,
     "start_time": "2024-03-30T17:26:53.664779",
     "status": "completed"
    },
    "tags": []
   },
   "source": [
    "The model is compiled with the `Adam optimizer`, `categorical cross-entropy` loss function, and accuracy metric. This prepares the model for training by specifying the optimization algorithm, the loss function to minimize during training, and the metric to evaluate the model's performance."
   ]
  },
  {
   "cell_type": "markdown",
   "id": "bb8d4474",
   "metadata": {
    "papermill": {
     "duration": 0.033974,
     "end_time": "2024-03-30T17:26:53.765943",
     "exception": false,
     "start_time": "2024-03-30T17:26:53.731969",
     "status": "completed"
    },
    "tags": []
   },
   "source": [
    "\n",
    "# Compile the Model"
   ]
  },
  {
   "cell_type": "code",
   "execution_count": null,
   "id": "e80c9011",
   "metadata": {
    "papermill": {
     "duration": 0.052213,
     "end_time": "2024-03-30T17:26:53.851736",
     "exception": false,
     "start_time": "2024-03-30T17:26:53.799523",
     "status": "completed"
    },
    "tags": []
   },
   "outputs": [],
   "source": [
    "# Compile the model\n",
    "model.compile(optimizer='adam',\n",
    "              loss='categorical_crossentropy',\n",
    "              metrics=['accuracy'])"
   ]
  },
  {
   "cell_type": "markdown",
   "id": "51cb4e17",
   "metadata": {
    "papermill": {
     "duration": 0.032816,
     "end_time": "2024-03-30T17:26:53.917638",
     "exception": false,
     "start_time": "2024-03-30T17:26:53.884822",
     "status": "completed"
    },
    "tags": []
   },
   "source": [
    "EarlyStopping callback is defined with a patience of `5` and restore_best_weights set to True. The model is then trained using the fit() function with the specified training and validation datasets, for a total of `5` epochs. The EarlyStopping callback is included as a callback during training to monitor the validation loss and control early stopping behavior, and the training history is stored in the history variable."
   ]
  },
  {
   "cell_type": "markdown",
   "id": "4d96a1e5",
   "metadata": {
    "papermill": {
     "duration": 0.03312,
     "end_time": "2024-03-30T17:26:53.983888",
     "exception": false,
     "start_time": "2024-03-30T17:26:53.950768",
     "status": "completed"
    },
    "tags": []
   },
   "source": [
    "\n",
    "# Fit the Model"
   ]
  },
  {
   "cell_type": "code",
   "execution_count": null,
   "id": "2a70d439",
   "metadata": {
    "papermill": {
     "duration": 1513.510783,
     "end_time": "2024-03-30T17:52:07.527762",
     "exception": false,
     "start_time": "2024-03-30T17:26:54.016979",
     "status": "completed"
    },
    "tags": []
   },
   "outputs": [],
   "source": [
    "# Define early stopping callback\n",
    "from tensorflow.keras.callbacks import EarlyStopping\n",
    "# Define early stopping callback\n",
    "early_stopping = EarlyStopping(patience=5, restore_best_weights=True)\n",
    "\n",
    "# Fit the model with callbacks\n",
    "history = model.fit(train_ds,\n",
    "                    validation_data=validation_ds,\n",
    "                    epochs=5,\n",
    "                    callbacks=[early_stopping])\n"
   ]
  },
  {
   "cell_type": "markdown",
   "id": "708df7a0",
   "metadata": {
    "papermill": {
     "duration": 0.153129,
     "end_time": "2024-03-30T17:52:07.834503",
     "exception": false,
     "start_time": "2024-03-30T17:52:07.681374",
     "status": "completed"
    },
    "tags": []
   },
   "source": [
    "\n",
    "\n",
    "# Evaluate the Model\n"
   ]
  },
  {
   "cell_type": "code",
   "execution_count": null,
   "id": "1afe7290",
   "metadata": {
    "papermill": {
     "duration": 20.672157,
     "end_time": "2024-03-30T17:52:28.659174",
     "exception": false,
     "start_time": "2024-03-30T17:52:07.987017",
     "status": "completed"
    },
    "tags": []
   },
   "outputs": [],
   "source": [
    "\n",
    "# Evaluate the model on the test dataset\n",
    "test_loss, test_accuracy = model.evaluate(test_ds) \n",
    "\n",
    "# Print the test loss and accuracy\n",
    "print(\"Test Loss:\", test_loss)\n",
    "print(\"Test Accuracy:\", test_accuracy)\n"
   ]
  },
  {
   "cell_type": "markdown",
   "id": "cb368223",
   "metadata": {
    "papermill": {
     "duration": 0.155983,
     "end_time": "2024-03-30T17:52:28.970087",
     "exception": false,
     "start_time": "2024-03-30T17:52:28.814104",
     "status": "completed"
    },
    "tags": []
   },
   "source": [
    "\n",
    "# History Plot"
   ]
  },
  {
   "cell_type": "code",
   "execution_count": null,
   "id": "54f8c6b3",
   "metadata": {
    "papermill": {
     "duration": 0.803794,
     "end_time": "2024-03-30T17:52:29.929607",
     "exception": false,
     "start_time": "2024-03-30T17:52:29.125813",
     "status": "completed"
    },
    "tags": []
   },
   "outputs": [],
   "source": [
    "import matplotlib.pyplot as plt\n",
    "\n",
    "# Define epochs\n",
    "epochs = range(1, len(history.history['loss']) + 1)\n",
    "\n",
    "# Plot training & validation loss\n",
    "plt.plot(epochs, history.history['loss'], label='Training Loss', marker='o')\n",
    "plt.plot(epochs, history.history['val_loss'], label='Validation Loss', marker='o')\n",
    "plt.title('Model Loss')\n",
    "plt.xlabel('Epoch')\n",
    "plt.ylabel('Loss')\n",
    "plt.legend()\n",
    "plt.show()\n",
    "\n",
    "# Plot training & validation accuracy\n",
    "plt.plot(epochs, history.history['accuracy'], label='Training Accuracy', marker='o')\n",
    "plt.plot(epochs, history.history['val_accuracy'], label='Validation Accuracy', marker='o')\n",
    "plt.title('Model Accuracy')\n",
    "plt.xlabel('Epoch')\n",
    "plt.ylabel('Accuracy')\n",
    "plt.legend()\n",
    "plt.show()\n"
   ]
  }
 ],
 "metadata": {
  "kaggle": {
   "accelerator": "none",
   "dataSources": [
    {
     "datasetId": 675484,
     "sourceId": 1187790,
     "sourceType": "datasetVersion"
    }
   ],
   "dockerImageVersionId": 30673,
   "isGpuEnabled": false,
   "isInternetEnabled": true,
   "language": "python",
   "sourceType": "notebook"
  },
  "kernelspec": {
   "display_name": "Python 3 (ipykernel)",
   "language": "python",
   "name": "python3"
  },
  "language_info": {
   "codemirror_mode": {
    "name": "ipython",
    "version": 3
   },
   "file_extension": ".py",
   "mimetype": "text/x-python",
   "name": "python",
   "nbconvert_exporter": "python",
   "pygments_lexer": "ipython3",
   "version": "3.11.7"
  },
  "papermill": {
   "default_parameters": {},
   "duration": 1574.357145,
   "end_time": "2024-03-30T17:52:33.079230",
   "environment_variables": {},
   "exception": null,
   "input_path": "__notebook__.ipynb",
   "output_path": "__notebook__.ipynb",
   "parameters": {},
   "start_time": "2024-03-30T17:26:18.722085",
   "version": "2.5.0"
  }
 },
 "nbformat": 4,
 "nbformat_minor": 5
}
